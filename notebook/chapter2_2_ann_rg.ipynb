{
 "cells": [
  {
   "cell_type": "code",
   "execution_count": 1,
   "metadata": {
    "collapsed": true
   },
   "outputs": [],
   "source": [
    "%matplotlib inline"
   ]
  },
  {
   "cell_type": "code",
   "execution_count": 2,
   "outputs": [],
   "source": [
    "from keras import layers, models"
   ],
   "metadata": {
    "collapsed": false,
    "pycharm": {
     "name": "#%%\n"
    }
   }
  },
  {
   "cell_type": "code",
   "execution_count": 3,
   "outputs": [],
   "source": [
    "class ANN(models.Model):\n",
    "    def __init__(self, Nin, Nh, Nout):\n",
    "        hidden = layers.Dense(Nh)\n",
    "        output = layers.Dense(Nout)\n",
    "        relu = layers.Activation('relu')\n",
    "\n",
    "        x = layers.Input(shape=(Nin, ))\n",
    "        h = relu(hidden(x))\n",
    "        y = output(h)\n",
    "\n",
    "        super().__init__(x, y)\n",
    "        self.compile(\n",
    "            optimizer='sgd',\n",
    "            loss='mse'\n",
    "        )"
   ],
   "metadata": {
    "collapsed": false,
    "pycharm": {
     "name": "#%%\n"
    }
   }
  },
  {
   "cell_type": "code",
   "execution_count": 4,
   "outputs": [],
   "source": [
    "# from tensorflow.keras import datasets\n",
    "# from keras import datasets\n",
    "from sklearn import datasets\n",
    "from sklearn import preprocessing\n",
    "from sklearn.model_selection import  train_test_split"
   ],
   "metadata": {
    "collapsed": false,
    "pycharm": {
     "name": "#%%\n"
    }
   }
  },
  {
   "cell_type": "code",
   "execution_count": 5,
   "outputs": [],
   "source": [
    "def Data_func():\n",
    "    X, y = datasets.load_boston(return_X_y=True)\n",
    "\n",
    "    y = y.reshape(-1, 1)\n",
    "\n",
    "    X_train, X_test, y_train, y_test =\\\n",
    "        train_test_split(X, y, test_size=0.2, random_state=113)\n",
    "    scaler = preprocessing.MinMaxScaler()\n",
    "    X_train = scaler.fit_transform(X_train)\n",
    "    X_test = scaler.transform(X_test)\n",
    "\n",
    "    return (X_train, y_train), (X_test, y_test)"
   ],
   "metadata": {
    "collapsed": false,
    "pycharm": {
     "name": "#%%\n"
    }
   }
  },
  {
   "cell_type": "code",
   "execution_count": 6,
   "outputs": [],
   "source": [
    "import matplotlib.pyplot as plt"
   ],
   "metadata": {
    "collapsed": false,
    "pycharm": {
     "name": "#%%\n"
    }
   }
  },
  {
   "cell_type": "code",
   "execution_count": 7,
   "outputs": [],
   "source": [
    "def plot_loss(history):\n",
    "    plt.plot(history.history['loss'])\n",
    "    plt.plot(history.history['val_loss'])\n",
    "    plt.title('Model Loss')\n",
    "    plt.ylabel('Loss')\n",
    "    plt.xlabel('Epoch')\n",
    "    plt.legend(['Train', 'Test'], loc=0)"
   ],
   "metadata": {
    "collapsed": false,
    "pycharm": {
     "name": "#%%\n"
    }
   }
  },
  {
   "cell_type": "code",
   "execution_count": 8,
   "outputs": [],
   "source": [
    "def main():\n",
    "    Nin = 13\n",
    "    Nh = 5\n",
    "    Nout = 1\n",
    "\n",
    "    model = ANN(Nin, Nh, Nout)\n",
    "    (X_train, y_train), (X_test, y_test) = Data_func()\n",
    "\n",
    "    history = model.fit(\n",
    "        X_train, y_train,\n",
    "        epochs=100,\n",
    "        batch_size=100,\n",
    "        validation_split=0.2,\n",
    "        verbose=2\n",
    "    )\n",
    "    performance_test = model.evaluate(X_test, y_test, batch_size=100)\n",
    "    print(f'Test Loss -> {performance_test:.2f}')\n",
    "\n",
    "    plot_loss(history)\n",
    "    plt.show()"
   ],
   "metadata": {
    "collapsed": false,
    "pycharm": {
     "name": "#%%\n"
    }
   }
  },
  {
   "cell_type": "code",
   "execution_count": 9,
   "outputs": [
    {
     "name": "stdout",
     "output_type": "stream",
     "text": [
      "Epoch 1/100\n",
      "4/4 - 0s - loss: 509.4308 - val_loss: 143.2382\n",
      "Epoch 2/100\n",
      "4/4 - 0s - loss: 93.4443 - val_loss: 94.2156\n",
      "Epoch 3/100\n",
      "4/4 - 0s - loss: 70.6582 - val_loss: 80.8398\n",
      "Epoch 4/100\n",
      "4/4 - 0s - loss: 61.2355 - val_loss: 78.2467\n",
      "Epoch 5/100\n",
      "4/4 - 0s - loss: 66.6706 - val_loss: 54.0930\n",
      "Epoch 6/100\n",
      "4/4 - 0s - loss: 56.7906 - val_loss: 50.9131\n",
      "Epoch 7/100\n",
      "4/4 - 0s - loss: 44.6725 - val_loss: 56.5907\n",
      "Epoch 8/100\n",
      "4/4 - 0s - loss: 43.1831 - val_loss: 43.7535\n",
      "Epoch 9/100\n",
      "4/4 - 0s - loss: 41.3981 - val_loss: 43.0036\n",
      "Epoch 10/100\n",
      "4/4 - 0s - loss: 42.3769 - val_loss: 66.6928\n",
      "Epoch 11/100\n",
      "4/4 - 0s - loss: 47.0259 - val_loss: 40.5804\n",
      "Epoch 12/100\n",
      "4/4 - 0s - loss: 41.1171 - val_loss: 47.5168\n",
      "Epoch 13/100\n",
      "4/4 - 0s - loss: 39.6996 - val_loss: 35.0500\n",
      "Epoch 14/100\n",
      "4/4 - 0s - loss: 46.9046 - val_loss: 33.2035\n",
      "Epoch 15/100\n",
      "4/4 - 0s - loss: 35.7767 - val_loss: 46.2240\n",
      "Epoch 16/100\n",
      "4/4 - 0s - loss: 52.2086 - val_loss: 32.0990\n",
      "Epoch 17/100\n",
      "4/4 - 0s - loss: 35.3461 - val_loss: 56.4496\n",
      "Epoch 18/100\n",
      "4/4 - 0s - loss: 48.3262 - val_loss: 28.8227\n",
      "Epoch 19/100\n",
      "4/4 - 0s - loss: 31.5328 - val_loss: 28.6396\n",
      "Epoch 20/100\n",
      "4/4 - 0s - loss: 29.0383 - val_loss: 27.7230\n",
      "Epoch 21/100\n",
      "4/4 - 0s - loss: 28.0398 - val_loss: 26.7900\n",
      "Epoch 22/100\n",
      "4/4 - 0s - loss: 28.1303 - val_loss: 31.6371\n",
      "Epoch 23/100\n",
      "4/4 - 0s - loss: 32.2546 - val_loss: 26.9754\n",
      "Epoch 24/100\n",
      "4/4 - 0s - loss: 29.8440 - val_loss: 38.7240\n",
      "Epoch 25/100\n",
      "4/4 - 0s - loss: 49.3193 - val_loss: 52.8994\n",
      "Epoch 26/100\n",
      "4/4 - 0s - loss: 53.0385 - val_loss: 72.7469\n",
      "Epoch 27/100\n",
      "4/4 - 0s - loss: 63.1508 - val_loss: 85.2908\n",
      "Epoch 28/100\n",
      "4/4 - 0s - loss: 59.5966 - val_loss: 78.3481\n",
      "Epoch 29/100\n",
      "4/4 - 0s - loss: 66.4460 - val_loss: 27.3806\n",
      "Epoch 30/100\n",
      "4/4 - 0s - loss: 32.0417 - val_loss: 25.9230\n",
      "Epoch 31/100\n",
      "4/4 - 0s - loss: 29.6755 - val_loss: 24.5778\n",
      "Epoch 32/100\n",
      "4/4 - 0s - loss: 25.8794 - val_loss: 45.1944\n",
      "Epoch 33/100\n",
      "4/4 - 0s - loss: 46.4158 - val_loss: 86.7010\n",
      "Epoch 34/100\n",
      "4/4 - 0s - loss: 66.4407 - val_loss: 23.4487\n",
      "Epoch 35/100\n",
      "4/4 - 0s - loss: 24.2862 - val_loss: 30.0862\n",
      "Epoch 36/100\n",
      "4/4 - 0s - loss: 27.4515 - val_loss: 22.8561\n",
      "Epoch 37/100\n",
      "4/4 - 0s - loss: 24.6915 - val_loss: 32.8165\n",
      "Epoch 38/100\n",
      "4/4 - 0s - loss: 33.1433 - val_loss: 22.4949\n",
      "Epoch 39/100\n",
      "4/4 - 0s - loss: 24.8706 - val_loss: 34.8611\n",
      "Epoch 40/100\n",
      "4/4 - 0s - loss: 32.1820 - val_loss: 44.7722\n",
      "Epoch 41/100\n",
      "4/4 - 0s - loss: 33.1696 - val_loss: 29.9194\n",
      "Epoch 42/100\n",
      "4/4 - 0s - loss: 28.1273 - val_loss: 22.1747\n",
      "Epoch 43/100\n",
      "4/4 - 0s - loss: 22.9335 - val_loss: 21.9249\n",
      "Epoch 44/100\n",
      "4/4 - 0s - loss: 22.0652 - val_loss: 25.7440\n",
      "Epoch 45/100\n",
      "4/4 - 0s - loss: 26.6348 - val_loss: 31.1246\n",
      "Epoch 46/100\n",
      "4/4 - 0s - loss: 24.4696 - val_loss: 21.4426\n",
      "Epoch 47/100\n",
      "4/4 - 0s - loss: 22.3524 - val_loss: 25.3844\n",
      "Epoch 48/100\n",
      "4/4 - 0s - loss: 22.5404 - val_loss: 22.5385\n",
      "Epoch 49/100\n",
      "4/4 - 0s - loss: 24.7584 - val_loss: 29.5308\n",
      "Epoch 50/100\n",
      "4/4 - 0s - loss: 26.7958 - val_loss: 29.2538\n",
      "Epoch 51/100\n",
      "4/4 - 0s - loss: 37.7649 - val_loss: 56.3335\n",
      "Epoch 52/100\n",
      "4/4 - 0s - loss: 42.3534 - val_loss: 25.2509\n",
      "Epoch 53/100\n",
      "4/4 - 0s - loss: 32.2857 - val_loss: 34.7086\n",
      "Epoch 54/100\n",
      "4/4 - 0s - loss: 32.2096 - val_loss: 24.5674\n",
      "Epoch 55/100\n",
      "4/4 - 0s - loss: 20.8749 - val_loss: 22.1412\n",
      "Epoch 56/100\n",
      "4/4 - 0s - loss: 28.1606 - val_loss: 29.9666\n",
      "Epoch 57/100\n",
      "4/4 - 0s - loss: 22.7432 - val_loss: 20.8581\n",
      "Epoch 58/100\n",
      "4/4 - 0s - loss: 22.5464 - val_loss: 21.4665\n",
      "Epoch 59/100\n",
      "4/4 - 0s - loss: 21.1205 - val_loss: 20.4856\n",
      "Epoch 60/100\n",
      "4/4 - 0s - loss: 20.8876 - val_loss: 21.0720\n",
      "Epoch 61/100\n",
      "4/4 - 0s - loss: 23.5368 - val_loss: 22.3694\n",
      "Epoch 62/100\n",
      "4/4 - 0s - loss: 20.4850 - val_loss: 22.1935\n",
      "Epoch 63/100\n",
      "4/4 - 0s - loss: 21.8697 - val_loss: 27.4105\n",
      "Epoch 64/100\n",
      "4/4 - 0s - loss: 28.3419 - val_loss: 36.5608\n",
      "Epoch 65/100\n",
      "4/4 - 0s - loss: 28.0889 - val_loss: 45.8183\n",
      "Epoch 66/100\n",
      "4/4 - 0s - loss: 37.4565 - val_loss: 34.7592\n",
      "Epoch 67/100\n",
      "4/4 - 0s - loss: 23.8945 - val_loss: 22.1713\n",
      "Epoch 68/100\n",
      "4/4 - 0s - loss: 20.6981 - val_loss: 23.3772\n",
      "Epoch 69/100\n",
      "4/4 - 0s - loss: 27.6476 - val_loss: 23.8330\n",
      "Epoch 70/100\n",
      "4/4 - 0s - loss: 20.3189 - val_loss: 21.9278\n",
      "Epoch 71/100\n",
      "4/4 - 0s - loss: 24.0532 - val_loss: 22.0423\n",
      "Epoch 72/100\n",
      "4/4 - 0s - loss: 24.9276 - val_loss: 22.7043\n",
      "Epoch 73/100\n",
      "4/4 - 0s - loss: 21.1314 - val_loss: 30.0672\n",
      "Epoch 74/100\n",
      "4/4 - 0s - loss: 24.7601 - val_loss: 21.8505\n",
      "Epoch 75/100\n",
      "4/4 - 0s - loss: 20.8730 - val_loss: 44.1717\n",
      "Epoch 76/100\n",
      "4/4 - 0s - loss: 30.6808 - val_loss: 29.4021\n",
      "Epoch 77/100\n",
      "4/4 - 0s - loss: 20.8970 - val_loss: 22.5102\n",
      "Epoch 78/100\n",
      "4/4 - 0s - loss: 20.2402 - val_loss: 27.2479\n",
      "Epoch 79/100\n",
      "4/4 - 0s - loss: 22.0841 - val_loss: 22.1491\n",
      "Epoch 80/100\n",
      "4/4 - 0s - loss: 20.6089 - val_loss: 23.5363\n",
      "Epoch 81/100\n",
      "4/4 - 0s - loss: 19.6045 - val_loss: 25.8156\n",
      "Epoch 82/100\n",
      "4/4 - 0s - loss: 21.5780 - val_loss: 31.3407\n",
      "Epoch 83/100\n",
      "4/4 - 0s - loss: 27.3493 - val_loss: 29.6231\n",
      "Epoch 84/100\n",
      "4/4 - 0s - loss: 26.2371 - val_loss: 91.3821\n",
      "Epoch 85/100\n",
      "4/4 - 0s - loss: 60.9966 - val_loss: 28.2183\n",
      "Epoch 86/100\n",
      "4/4 - 0s - loss: 23.4923 - val_loss: 25.3909\n",
      "Epoch 87/100\n",
      "4/4 - 0s - loss: 27.0675 - val_loss: 25.8728\n",
      "Epoch 88/100\n",
      "4/4 - 0s - loss: 21.5487 - val_loss: 25.7680\n",
      "Epoch 89/100\n",
      "4/4 - 0s - loss: 23.2906 - val_loss: 31.0265\n",
      "Epoch 90/100\n",
      "4/4 - 0s - loss: 24.9651 - val_loss: 27.7096\n",
      "Epoch 91/100\n",
      "4/4 - 0s - loss: 21.0536 - val_loss: 44.0629\n",
      "Epoch 92/100\n",
      "4/4 - 0s - loss: 31.4628 - val_loss: 44.8313\n",
      "Epoch 93/100\n",
      "4/4 - 0s - loss: 25.0737 - val_loss: 27.2967\n",
      "Epoch 94/100\n",
      "4/4 - 0s - loss: 19.4884 - val_loss: 26.3819\n",
      "Epoch 95/100\n",
      "4/4 - 0s - loss: 19.8153 - val_loss: 25.1768\n",
      "Epoch 96/100\n",
      "4/4 - 0s - loss: 21.1900 - val_loss: 23.1832\n",
      "Epoch 97/100\n",
      "4/4 - 0s - loss: 18.3348 - val_loss: 23.9814\n",
      "Epoch 98/100\n",
      "4/4 - 0s - loss: 22.5214 - val_loss: 23.6709\n",
      "Epoch 99/100\n",
      "4/4 - 0s - loss: 22.4747 - val_loss: 25.1998\n",
      "Epoch 100/100\n",
      "4/4 - 0s - loss: 19.6445 - val_loss: 23.3086\n",
      "2/2 [==============================] - 0s 648us/step - loss: 19.4558\b\b\b\b\b\b\b\b\b\b\b\b\b\b\b\b\b\b\b\b\b\b\b\b\b\b\b\b\b\b\b\b\b\b\b\b\b\b\b\b\b\b\b\b\b\b\b\b\b\b\b\b\b\b\b\b\n",
      "Test Loss -> 19.46\n"
     ]
    },
    {
     "data": {
      "text/plain": "<Figure size 432x288 with 1 Axes>",
      "image/png": "[encoded data removed]"
     },
     "metadata": {
      "needs_background": "light"
     },
     "output_type": "display_data"
    }
   ],
   "source": [
    "main()"
   ],
   "metadata": {
    "collapsed": false,
    "pycharm": {
     "name": "#%%\n"
    }
   }
  },
  {
   "cell_type": "code",
   "execution_count": 9,
   "outputs": [],
   "source": [],
   "metadata": {
    "collapsed": false,
    "pycharm": {
     "name": "#%%\n"
    }
   }
  }
 ],
 "metadata": {
  "kernelspec": {
   "display_name": "Python 3",
   "language": "python",
   "name": "python3"
  },
  "language_info": {
   "codemirror_mode": {
    "name": "ipython",
    "version": 2
   },
   "file_extension": ".py",
   "mimetype": "text/x-python",
   "name": "python",
   "nbconvert_exporter": "python",
   "pygments_lexer": "ipython2",
   "version": "2.7.6"
  }
 },
 "nbformat": 4,
 "nbformat_minor": 0
}