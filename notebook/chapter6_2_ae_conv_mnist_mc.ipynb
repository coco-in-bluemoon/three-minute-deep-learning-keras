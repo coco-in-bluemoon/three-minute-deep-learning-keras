{
  "nbformat": 4,
  "nbformat_minor": 0,
  "metadata": {
    "kernelspec": {
      "display_name": "Python 3",
      "language": "python",
      "name": "python3"
    },
    "language_info": {
      "codemirror_mode": {
        "name": "ipython",
        "version": 2
      },
      "file_extension": ".py",
      "mimetype": "text/x-python",
      "name": "python",
      "nbconvert_exporter": "python",
      "pygments_lexer": "ipython2",
      "version": "2.7.6"
    },
    "colab": {
      "name": "chapter6_2_ae_conv_mnist_mc.ipynb",
      "provenance": [],
      "include_colab_link": true
    },
    "accelerator": "GPU"
  },
  "cells": [
    {
      "cell_type": "markdown",
      "metadata": {
        "id": "view-in-github",
        "colab_type": "text"
      },
      "source": [
        "<a href=\"https://colab.research.google.com/github/coco-in-bluemoon/three-minute-deep-learning-keras/blob/main/notebook/chapter6_2_ae_conv_mnist_mc.ipynb\" target=\"_parent\"><img src=\"https://colab.research.google.com/assets/colab-badge.svg\" alt=\"Open In Colab\"/></a>"
      ]
    },
    {
      "cell_type": "markdown",
      "metadata": {
        "collapsed": true,
        "pycharm": {
          "name": "#%% md\n"
        },
        "id": "nsi_waW6Lz5n"
      },
      "source": [
        "**합성곱 AE 모델링**"
      ]
    },
    {
      "cell_type": "code",
      "metadata": {
        "pycharm": {
          "name": "#%%\n"
        },
        "id": "VC8dGzavLz5n"
      },
      "source": [
        "from keras import layers, models"
      ],
      "execution_count": 1,
      "outputs": []
    },
    {
      "cell_type": "code",
      "metadata": {
        "pycharm": {
          "name": "#%%\n"
        },
        "id": "Ltz3oxVDLz5n"
      },
      "source": [
        "def Conv2D(filters, kernel_size, padding='same', activation='relu'):\n",
        "    return layers.Conv2D(filters=filters, kernel_size=kernel_size, padding=padding, activation=activation)"
      ],
      "execution_count": 2,
      "outputs": []
    },
    {
      "cell_type": "code",
      "metadata": {
        "pycharm": {
          "name": "#%%\n"
        },
        "id": "3NMIpGLDLz5n"
      },
      "source": [
        "class AE(models.Model):\n",
        "    def __init__(self, orig_shape):\n",
        "\n",
        "        original = layers.Input(shape=orig_shape)\n",
        "\n",
        "        # Encoding 1\n",
        "        x = Conv2D(4, (3, 3))(original)\n",
        "        x = layers.MaxPooling2D((2, 2), padding='same')(x)\n",
        "\n",
        "        # Encoding 2\n",
        "        x = Conv2D(8, (3, 3))(x)\n",
        "        x = layers.MaxPooling2D((2, 2), padding='same')(x)\n",
        "\n",
        "        # Encoding 3 - encoded image with 7x7\n",
        "        z = Conv2D(1, (7, 7))(x)\n",
        "\n",
        "        # Decoding 1\n",
        "        y = Conv2D(16, (3, 3))(z)\n",
        "        y = layers.UpSampling2D((2, 2))(y)\n",
        "\n",
        "        # Decoding 2\n",
        "        y = Conv2D(8, (3, 3))(y)\n",
        "        y = layers.UpSampling2D((2, 2))(y)\n",
        "\n",
        "        # Decoding 3\n",
        "        y = Conv2D(4, (3, 3))(y)\n",
        "\n",
        "        # Output\n",
        "        output = Conv2D(1, (3, 3), activation='sigmoid')(y)\n",
        "\n",
        "        super(AE, self).__init__(original, output)\n",
        "\n",
        "        self.compile(\n",
        "            optimizer='adam',\n",
        "            loss='binary_crossentropy',\n",
        "            metrics=['accuracy']\n",
        "        )\n",
        "\n",
        "        self.original = original\n",
        "        self.z = z\n",
        "\n",
        "    def Encoder(self):\n",
        "        return models.Model(self.original, self.z)"
      ],
      "execution_count": 3,
      "outputs": []
    },
    {
      "cell_type": "code",
      "metadata": {
        "pycharm": {
          "name": "#%%\n"
        },
        "id": "BCsfgT1LLz5n"
      },
      "source": [
        "from keras.datasets import mnist"
      ],
      "execution_count": 4,
      "outputs": []
    },
    {
      "cell_type": "code",
      "metadata": {
        "pycharm": {
          "name": "#%%\n"
        },
        "id": "iQSYkd8nLz5n",
        "outputId": "b6c5b319-4a04-4a00-a3d8-774a488b0083",
        "colab": {
          "base_uri": "https://localhost:8080/"
        }
      },
      "source": [
        "(X_train, _), (X_test, _) = mnist.load_data()\n",
        "\n",
        "X_train = X_train.astype('float32') / 255.\n",
        "X_test = X_test.astype('float32') / 255.\n",
        "\n",
        "X_train = X_train.reshape((len(X_train), 28, 28, 1))\n",
        "X_test = X_test.reshape((len(X_test), 28, 28, 1))\n",
        "\n",
        "print(X_train.shape)\n",
        "print(X_test.shape)"
      ],
      "execution_count": 5,
      "outputs": [
        {
          "output_type": "stream",
          "text": [
            "(60000, 28, 28, 1)\n",
            "(10000, 28, 28, 1)\n"
          ],
          "name": "stdout"
        }
      ]
    },
    {
      "cell_type": "code",
      "metadata": {
        "pycharm": {
          "name": "#%%\n"
        },
        "id": "T3UV756rLz5o"
      },
      "source": [
        "%matplotlib inline"
      ],
      "execution_count": 6,
      "outputs": []
    },
    {
      "cell_type": "code",
      "metadata": {
        "pycharm": {
          "name": "#%%\n"
        },
        "id": "2qucFMvdLz5o"
      },
      "source": [
        "import matplotlib.pyplot as plt"
      ],
      "execution_count": 7,
      "outputs": []
    },
    {
      "cell_type": "code",
      "metadata": {
        "pycharm": {
          "name": "#%%\n"
        },
        "id": "T1l4Est8Lz5o"
      },
      "source": [
        "def plot_loss(history):\n",
        "    plt.plot(history.history['loss'])\n",
        "    plt.plot(history.history['val_loss'])\n",
        "    plt.title('Model Loss')\n",
        "    plt.xlabel('Epoch')\n",
        "    plt.ylabel('Loss')\n",
        "    plt.legend(['Train', 'Test'], loc=0)\n",
        "\n",
        "def plot_acc(history):\n",
        "    plt.plot(history.history['accuracy'])\n",
        "    plt.plot(history.history['val_accuracy'])\n",
        "    plt.title('Model Accuracy')\n",
        "    plt.xlabel('Epoch')\n",
        "    plt.ylabel('Accuracy')\n",
        "    plt.legend(['Train', 'Test'], loc=0)\n",
        "\n",
        "def show_ae(autoencoder):\n",
        "    encoder = autoencoder.Encoder()\n",
        "\n",
        "    encoded_imgs = encoder.predict(X_test)\n",
        "    decoded_imgs = autoencoder.predict(X_test)\n",
        "\n",
        "    n = 10\n",
        "    for i in range(n):\n",
        "        ax = plt.subplot(3, n, i+1)\n",
        "        plt.imshow(X_test[i].reshape(28, 28))\n",
        "        plt.gray()\n",
        "        ax.get_xaxis().set_visible(False)\n",
        "        ax.get_yaxis().set_visible(False)\n",
        "\n",
        "        ax = plt.subplot(3, n, i+1+n)\n",
        "        plt.imshow(encoded_imgs[i].reshape(7, 7))\n",
        "        ax.get_xaxis().set_visible(False)\n",
        "        ax.get_yaxis().set_visible(False)\n",
        "\n",
        "        ax = plt.subplot(3, n, i+1+n+n)\n",
        "        plt.imshow(decoded_imgs[i].reshape(28, 28))\n",
        "        plt.gray()\n",
        "        ax.get_xaxis().set_visible(False)\n",
        "        ax.get_yaxis().set_visible(False)\n",
        "\n",
        "    plt.show()"
      ],
      "execution_count": 8,
      "outputs": []
    },
    {
      "cell_type": "code",
      "metadata": {
        "pycharm": {
          "name": "#%%\n"
        },
        "id": "KwQK7qEJLz5p"
      },
      "source": [
        "def main():\n",
        "    epochs = 50\n",
        "    batch_size = 128\n",
        "\n",
        "    autoencoder = AE(orig_shape=(28, 28, 1))\n",
        "\n",
        "    history = autoencoder.fit(\n",
        "        X_train, X_train,\n",
        "        epochs=epochs, batch_size=batch_size,\n",
        "        validation_data=(X_test, X_test)\n",
        "    )\n",
        "\n",
        "    plot_loss(history)\n",
        "    plt.show()\n",
        "\n",
        "    plot_acc(history)\n",
        "    plt.show()\n",
        "\n",
        "    show_ae(autoencoder)\n",
        "    plt.show()"
      ],
      "execution_count": 9,
      "outputs": []
    },
    {
      "cell_type": "code",
      "metadata": {
        "pycharm": {
          "name": "#%%\n"
        },
        "id": "R2940biyLz5p",
        "outputId": "9fde1638-0446-4d42-ef11-1eae034ebc2c",
        "colab": {
          "base_uri": "https://localhost:8080/",
          "height": 1000
        }
      },
      "source": [
        "main()"
      ],
      "execution_count": 10,
      "outputs": [
        {
          "output_type": "stream",
          "text": [
            "Epoch 1/50\n",
            "469/469 [==============================] - 3s 6ms/step - loss: 0.2145 - accuracy: 0.7990 - val_loss: 0.1141 - val_accuracy: 0.8093\n",
            "Epoch 2/50\n",
            "469/469 [==============================] - 2s 5ms/step - loss: 0.1089 - accuracy: 0.8106 - val_loss: 0.1033 - val_accuracy: 0.8108\n",
            "Epoch 3/50\n",
            "469/469 [==============================] - 2s 5ms/step - loss: 0.1026 - accuracy: 0.8117 - val_loss: 0.0994 - val_accuracy: 0.8111\n",
            "Epoch 4/50\n",
            "469/469 [==============================] - 2s 5ms/step - loss: 0.0997 - accuracy: 0.8121 - val_loss: 0.0971 - val_accuracy: 0.8114\n",
            "Epoch 5/50\n",
            "469/469 [==============================] - 2s 5ms/step - loss: 0.0977 - accuracy: 0.8124 - val_loss: 0.0958 - val_accuracy: 0.8121\n",
            "Epoch 6/50\n",
            "469/469 [==============================] - 2s 5ms/step - loss: 0.0963 - accuracy: 0.8127 - val_loss: 0.0944 - val_accuracy: 0.8117\n",
            "Epoch 7/50\n",
            "469/469 [==============================] - 2s 5ms/step - loss: 0.0951 - accuracy: 0.8128 - val_loss: 0.0934 - val_accuracy: 0.8122\n",
            "Epoch 8/50\n",
            "469/469 [==============================] - 2s 5ms/step - loss: 0.0942 - accuracy: 0.8130 - val_loss: 0.0925 - val_accuracy: 0.8122\n",
            "Epoch 9/50\n",
            "469/469 [==============================] - 2s 5ms/step - loss: 0.0935 - accuracy: 0.8131 - val_loss: 0.0921 - val_accuracy: 0.8124\n",
            "Epoch 10/50\n",
            "469/469 [==============================] - 2s 5ms/step - loss: 0.0928 - accuracy: 0.8132 - val_loss: 0.0915 - val_accuracy: 0.8125\n",
            "Epoch 11/50\n",
            "469/469 [==============================] - 2s 5ms/step - loss: 0.0924 - accuracy: 0.8132 - val_loss: 0.0909 - val_accuracy: 0.8125\n",
            "Epoch 12/50\n",
            "469/469 [==============================] - 2s 5ms/step - loss: 0.0919 - accuracy: 0.8133 - val_loss: 0.0906 - val_accuracy: 0.8126\n",
            "Epoch 13/50\n",
            "469/469 [==============================] - 2s 5ms/step - loss: 0.0915 - accuracy: 0.8134 - val_loss: 0.0902 - val_accuracy: 0.8125\n",
            "Epoch 14/50\n",
            "469/469 [==============================] - 2s 5ms/step - loss: 0.0913 - accuracy: 0.8134 - val_loss: 0.0899 - val_accuracy: 0.8125\n",
            "Epoch 15/50\n",
            "469/469 [==============================] - 2s 5ms/step - loss: 0.0910 - accuracy: 0.8134 - val_loss: 0.0898 - val_accuracy: 0.8127\n",
            "Epoch 16/50\n",
            "469/469 [==============================] - 2s 5ms/step - loss: 0.0907 - accuracy: 0.8135 - val_loss: 0.0894 - val_accuracy: 0.8125\n",
            "Epoch 17/50\n",
            "469/469 [==============================] - 2s 5ms/step - loss: 0.0905 - accuracy: 0.8135 - val_loss: 0.0895 - val_accuracy: 0.8127\n",
            "Epoch 18/50\n",
            "469/469 [==============================] - 2s 4ms/step - loss: 0.0904 - accuracy: 0.8135 - val_loss: 0.0893 - val_accuracy: 0.8128\n",
            "Epoch 19/50\n",
            "469/469 [==============================] - 2s 4ms/step - loss: 0.0902 - accuracy: 0.8135 - val_loss: 0.0889 - val_accuracy: 0.8127\n",
            "Epoch 20/50\n",
            "469/469 [==============================] - 2s 5ms/step - loss: 0.0901 - accuracy: 0.8135 - val_loss: 0.0888 - val_accuracy: 0.8125\n",
            "Epoch 21/50\n",
            "469/469 [==============================] - 2s 5ms/step - loss: 0.0898 - accuracy: 0.8136 - val_loss: 0.0886 - val_accuracy: 0.8126\n",
            "Epoch 22/50\n",
            "469/469 [==============================] - 2s 5ms/step - loss: 0.0896 - accuracy: 0.8136 - val_loss: 0.0884 - val_accuracy: 0.8128\n",
            "Epoch 23/50\n",
            "469/469 [==============================] - 2s 5ms/step - loss: 0.0896 - accuracy: 0.8136 - val_loss: 0.0884 - val_accuracy: 0.8129\n",
            "Epoch 24/50\n",
            "469/469 [==============================] - 2s 5ms/step - loss: 0.0893 - accuracy: 0.8136 - val_loss: 0.0881 - val_accuracy: 0.8128\n",
            "Epoch 25/50\n",
            "469/469 [==============================] - 2s 5ms/step - loss: 0.0892 - accuracy: 0.8137 - val_loss: 0.0883 - val_accuracy: 0.8130\n",
            "Epoch 26/50\n",
            "469/469 [==============================] - 2s 5ms/step - loss: 0.0891 - accuracy: 0.8137 - val_loss: 0.0887 - val_accuracy: 0.8130\n",
            "Epoch 27/50\n",
            "469/469 [==============================] - 2s 5ms/step - loss: 0.0889 - accuracy: 0.8137 - val_loss: 0.0877 - val_accuracy: 0.8127\n",
            "Epoch 28/50\n",
            "469/469 [==============================] - 2s 5ms/step - loss: 0.0888 - accuracy: 0.8137 - val_loss: 0.0877 - val_accuracy: 0.8127\n",
            "Epoch 29/50\n",
            "469/469 [==============================] - 2s 5ms/step - loss: 0.0886 - accuracy: 0.8137 - val_loss: 0.0875 - val_accuracy: 0.8128\n",
            "Epoch 30/50\n",
            "469/469 [==============================] - 2s 5ms/step - loss: 0.0885 - accuracy: 0.8138 - val_loss: 0.0874 - val_accuracy: 0.8128\n",
            "Epoch 31/50\n",
            "469/469 [==============================] - 2s 5ms/step - loss: 0.0885 - accuracy: 0.8138 - val_loss: 0.0873 - val_accuracy: 0.8129\n",
            "Epoch 32/50\n",
            "469/469 [==============================] - 2s 5ms/step - loss: 0.0883 - accuracy: 0.8138 - val_loss: 0.0872 - val_accuracy: 0.8129\n",
            "Epoch 33/50\n",
            "469/469 [==============================] - 2s 5ms/step - loss: 0.0883 - accuracy: 0.8138 - val_loss: 0.0872 - val_accuracy: 0.8127\n",
            "Epoch 34/50\n",
            "469/469 [==============================] - 2s 5ms/step - loss: 0.0882 - accuracy: 0.8138 - val_loss: 0.0877 - val_accuracy: 0.8131\n",
            "Epoch 35/50\n",
            "469/469 [==============================] - 2s 5ms/step - loss: 0.0881 - accuracy: 0.8138 - val_loss: 0.0873 - val_accuracy: 0.8131\n",
            "Epoch 36/50\n",
            "469/469 [==============================] - 2s 5ms/step - loss: 0.0880 - accuracy: 0.8138 - val_loss: 0.0868 - val_accuracy: 0.8129\n",
            "Epoch 37/50\n",
            "469/469 [==============================] - 2s 5ms/step - loss: 0.0879 - accuracy: 0.8138 - val_loss: 0.0869 - val_accuracy: 0.8131\n",
            "Epoch 38/50\n",
            "469/469 [==============================] - 2s 5ms/step - loss: 0.0878 - accuracy: 0.8138 - val_loss: 0.0866 - val_accuracy: 0.8130\n",
            "Epoch 39/50\n",
            "469/469 [==============================] - 2s 5ms/step - loss: 0.0877 - accuracy: 0.8139 - val_loss: 0.0867 - val_accuracy: 0.8128\n",
            "Epoch 40/50\n",
            "469/469 [==============================] - 2s 5ms/step - loss: 0.0876 - accuracy: 0.8139 - val_loss: 0.0865 - val_accuracy: 0.8130\n",
            "Epoch 41/50\n",
            "469/469 [==============================] - 2s 5ms/step - loss: 0.0876 - accuracy: 0.8139 - val_loss: 0.0865 - val_accuracy: 0.8129\n",
            "Epoch 42/50\n",
            "469/469 [==============================] - 2s 5ms/step - loss: 0.0874 - accuracy: 0.8139 - val_loss: 0.0867 - val_accuracy: 0.8132\n",
            "Epoch 43/50\n",
            "469/469 [==============================] - 2s 5ms/step - loss: 0.0874 - accuracy: 0.8139 - val_loss: 0.0863 - val_accuracy: 0.8130\n",
            "Epoch 44/50\n",
            "469/469 [==============================] - 2s 5ms/step - loss: 0.0874 - accuracy: 0.8139 - val_loss: 0.0863 - val_accuracy: 0.8129\n",
            "Epoch 45/50\n",
            "469/469 [==============================] - 2s 5ms/step - loss: 0.0873 - accuracy: 0.8139 - val_loss: 0.0861 - val_accuracy: 0.8130\n",
            "Epoch 46/50\n",
            "469/469 [==============================] - 2s 5ms/step - loss: 0.0873 - accuracy: 0.8139 - val_loss: 0.0862 - val_accuracy: 0.8129\n",
            "Epoch 47/50\n",
            "469/469 [==============================] - 2s 5ms/step - loss: 0.0872 - accuracy: 0.8139 - val_loss: 0.0861 - val_accuracy: 0.8130\n",
            "Epoch 48/50\n",
            "469/469 [==============================] - 2s 5ms/step - loss: 0.0871 - accuracy: 0.8139 - val_loss: 0.0863 - val_accuracy: 0.8128\n",
            "Epoch 49/50\n",
            "469/469 [==============================] - 2s 5ms/step - loss: 0.0871 - accuracy: 0.8139 - val_loss: 0.0860 - val_accuracy: 0.8129\n",
            "Epoch 50/50\n",
            "469/469 [==============================] - 2s 4ms/step - loss: 0.0870 - accuracy: 0.8139 - val_loss: 0.0859 - val_accuracy: 0.8130\n"
          ],
          "name": "stdout"
        },
        {
          "output_type": "display_data",
          "data": {
            "image/png": "[encoded data removed]",
            "text/plain": [
              "<Figure size 432x288 with 1 Axes>"
            ]
          },
          "metadata": {
            "tags": [],
            "needs_background": "light"
          }
        },
        {
          "output_type": "display_data",
          "data": {
            "image/png": "[encoded data removed]",
            "text/plain": [
              "<Figure size 432x288 with 1 Axes>"
            ]
          },
          "metadata": {
            "tags": [],
            "needs_background": "light"
          }
        },
        {
          "output_type": "display_data",
          "data": {
            "image/png": "[encoded data removed]",
            "text/plain": [
              "<Figure size 432x288 with 30 Axes>"
            ]
          },
          "metadata": {
            "tags": [],
            "needs_background": "light"
          }
        }
      ]
    },
    {
      "cell_type": "code",
      "metadata": {
        "pycharm": {
          "name": "#%%\n"
        },
        "id": "6AAlYdrwLz5p"
      },
      "source": [
        ""
      ],
      "execution_count": 10,
      "outputs": []
    }
  ]
}