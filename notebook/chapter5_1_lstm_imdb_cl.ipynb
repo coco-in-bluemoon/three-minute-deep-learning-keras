{
  "nbformat": 4,
  "nbformat_minor": 0,
  "metadata": {
    "kernelspec": {
      "display_name": "Python 3",
      "language": "python",
      "name": "python3"
    },
    "language_info": {
      "codemirror_mode": {
        "name": "ipython",
        "version": 2
      },
      "file_extension": ".py",
      "mimetype": "text/x-python",
      "name": "python",
      "nbconvert_exporter": "python",
      "pygments_lexer": "ipython2",
      "version": "2.7.6"
    },
    "colab": {
      "name": "chapter5_1_lstm_imdb_cl.ipynb",
      "provenance": [],
      "include_colab_link": true
    },
    "accelerator": "GPU"
  },
  "cells": [
    {
      "cell_type": "markdown",
      "metadata": {
        "id": "view-in-github",
        "colab_type": "text"
      },
      "source": [
        "<a href=\"https://colab.research.google.com/github/coco-in-bluemoon/three-minute-deep-learning-keras/blob/main/notebook/chapter5_1_lstm_imdb_cl.ipynb\" target=\"_parent\"><img src=\"https://colab.research.google.com/assets/colab-badge.svg\" alt=\"Open In Colab\"/></a>"
      ]
    },
    {
      "cell_type": "markdown",
      "metadata": {
        "collapsed": true,
        "pycharm": {
          "name": "#%% md\n"
        },
        "id": "_8KNex5m47_H"
      },
      "source": [
        "**데이터 준비**"
      ]
    },
    {
      "cell_type": "code",
      "metadata": {
        "pycharm": {
          "name": "#%%\n"
        },
        "id": "ELcmIMfR47_H"
      },
      "source": [
        "from keras.datasets import imdb\n",
        "from keras.preprocessing import sequence"
      ],
      "execution_count": 1,
      "outputs": []
    },
    {
      "cell_type": "code",
      "metadata": {
        "pycharm": {
          "name": "#%%\n"
        },
        "id": "uEvFQCJN47_H"
      },
      "source": [
        "class Data:\n",
        "    def __init__(self, max_features=20000, max_len=80):\n",
        "        (x_train, y_train), (x_test, y_test) = imdb.load_data(num_words=max_features)\n",
        "\n",
        "        x_train = sequence.pad_sequences(x_train, maxlen=max_len)\n",
        "        x_test = sequence.pad_sequences(x_test, maxlen=max_len)\n",
        "\n",
        "        self.x_train = x_train\n",
        "        self.y_train = y_train\n",
        "        self.x_test = x_test\n",
        "        self.y_test = y_test"
      ],
      "execution_count": 2,
      "outputs": []
    },
    {
      "cell_type": "markdown",
      "metadata": {
        "collapsed": false,
        "pycharm": {
          "name": "#%% md\n"
        },
        "id": "RoJlvcNm47_H"
      },
      "source": [
        "**모델 준비**"
      ]
    },
    {
      "cell_type": "code",
      "metadata": {
        "pycharm": {
          "name": "#%%\n"
        },
        "id": "ZK8ybB2N47_H"
      },
      "source": [
        "from keras import layers, models"
      ],
      "execution_count": 3,
      "outputs": []
    },
    {
      "cell_type": "code",
      "metadata": {
        "pycharm": {
          "name": "#%%\n"
        },
        "id": "lQEfhone47_H"
      },
      "source": [
        "class RNN_LSTM(models.Model):\n",
        "    def __init__(self, max_features, max_len):\n",
        "        x = layers.Input((max_len,))\n",
        "        h = layers.Embedding(max_features, 128)(x)\n",
        "        h = layers.LSTM(128, dropout=0.2, recurrent_dropout=0.2)(h)\n",
        "        y = layers.Dense(1, activation='sigmoid')(h)\n",
        "\n",
        "        super(RNN_LSTM, self).__init__(x, y)\n",
        "\n",
        "        self.compile(loss='binary_crossentropy', optimizer='adam', metrics=['acc'])"
      ],
      "execution_count": 4,
      "outputs": []
    },
    {
      "cell_type": "markdown",
      "metadata": {
        "collapsed": false,
        "pycharm": {
          "name": "#%% md\n"
        },
        "id": "Zrba2J1t47_H"
      },
      "source": [
        "**분석**"
      ]
    },
    {
      "cell_type": "code",
      "metadata": {
        "pycharm": {
          "name": "#%%\n"
        },
        "id": "UjXcrPwX47_H"
      },
      "source": [
        "class Machine:\n",
        "    def __init__(self, max_features=20000, max_len=80):\n",
        "        self.data = Data(max_features, max_len)\n",
        "        self.model = RNN_LSTM(max_features, max_len)\n",
        "\n",
        "    def run(self, epochs=3, batch_size=32):\n",
        "        data = self.data\n",
        "        model = self.model\n",
        "\n",
        "        print('Training Steps')\n",
        "        print('===============')\n",
        "\n",
        "        model.fit(\n",
        "            data.x_train, data.y_train,\n",
        "            epochs=epochs,\n",
        "            validation_data=(data.x_test, data.y_test)\n",
        "        )\n",
        "\n",
        "        score, accuracy = model.evaluate(data.x_test, data.y_test, batch_size=batch_size)\n",
        "\n",
        "        print(f'Test Performance: accuracy={score}, loss={accuracy}')"
      ],
      "execution_count": 5,
      "outputs": []
    },
    {
      "cell_type": "code",
      "metadata": {
        "pycharm": {
          "name": "#%%\n"
        },
        "id": "FVADF4HY47_H"
      },
      "source": [
        "def main():\n",
        "    machine = Machine()\n",
        "    machine.run()"
      ],
      "execution_count": 6,
      "outputs": []
    },
    {
      "cell_type": "code",
      "metadata": {
        "pycharm": {
          "name": "#%%\n"
        },
        "id": "QCTnWCqU47_I",
        "outputId": "357f30e9-4937-4daa-a3a2-698b6b3f68f8",
        "colab": {
          "base_uri": "https://localhost:8080/"
        }
      },
      "source": [
        "main()"
      ],
      "execution_count": 7,
      "outputs": [
        {
          "output_type": "stream",
          "text": [
            "Downloading data from https://storage.googleapis.com/tensorflow/tf-keras-datasets/imdb.npz\n",
            "17465344/17464789 [==============================] - 0s 0us/step\n",
            "WARNING:tensorflow:Layer lstm will not use cuDNN kernel since it doesn't meet the cuDNN kernel criteria. It will use generic GPU kernel as fallback when running on GPU\n",
            "Training Steps\n",
            "===============\n",
            "Epoch 1/3\n",
            "782/782 [==============================] - 265s 339ms/step - loss: 0.4261 - acc: 0.8026 - val_loss: 0.3611 - val_acc: 0.8388\n",
            "Epoch 2/3\n",
            "782/782 [==============================] - 260s 332ms/step - loss: 0.2579 - acc: 0.8966 - val_loss: 0.4084 - val_acc: 0.8281\n",
            "Epoch 3/3\n",
            "782/782 [==============================] - 257s 328ms/step - loss: 0.1671 - acc: 0.9373 - val_loss: 0.4615 - val_acc: 0.8132\n",
            "782/782 [==============================] - 17s 22ms/step - loss: 0.4615 - acc: 0.8132\n",
            "Test Performance: accuracy=0.4614802598953247, loss=0.8131999969482422\n"
          ],
          "name": "stdout"
        }
      ]
    },
    {
      "cell_type": "code",
      "metadata": {
        "pycharm": {
          "name": "#%%\n"
        },
        "id": "X7kOiAIr47_J"
      },
      "source": [
        ""
      ],
      "execution_count": 7,
      "outputs": []
    }
  ]
}