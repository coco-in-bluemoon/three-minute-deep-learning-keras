{
  "nbformat": 4,
  "nbformat_minor": 0,
  "metadata": {
    "kernelspec": {
      "display_name": "Python 3",
      "language": "python",
      "name": "python3"
    },
    "language_info": {
      "codemirror_mode": {
        "name": "ipython",
        "version": 2
      },
      "file_extension": ".py",
      "mimetype": "text/x-python",
      "name": "python",
      "nbconvert_exporter": "python",
      "pygments_lexer": "ipython2",
      "version": "2.7.6"
    },
    "colab": {
      "name": "chapter4_1_cnn_mnist_cl.ipynb",
      "provenance": [],
      "include_colab_link": true
    },
    "accelerator": "GPU"
  },
  "cells": [
    {
      "cell_type": "markdown",
      "metadata": {
        "id": "view-in-github",
        "colab_type": "text"
      },
      "source": [
        "<a href=\"https://colab.research.google.com/github/coco-in-bluemoon/three-minute-deep-learning-keras/blob/main/notebook/chapter4_1_cnn_mnist_cl.ipynb\" target=\"_parent\"><img src=\"https://colab.research.google.com/assets/colab-badge.svg\" alt=\"Open In Colab\"/></a>"
      ]
    },
    {
      "cell_type": "code",
      "metadata": {
        "id": "FccKBXV7BkmT"
      },
      "source": [
        "%matplotlib inline"
      ],
      "execution_count": 1,
      "outputs": []
    },
    {
      "cell_type": "code",
      "metadata": {
        "pycharm": {
          "name": "#%%\n"
        },
        "id": "GXYjXo_2BkmU"
      },
      "source": [
        "from keras import layers, losses, models"
      ],
      "execution_count": 2,
      "outputs": []
    },
    {
      "cell_type": "code",
      "metadata": {
        "pycharm": {
          "name": "#%%\n"
        },
        "id": "0hOJtb3cBkmU"
      },
      "source": [
        "class CNN(models.Sequential):\n",
        "    def __init__(self, input_shape, num_classes):\n",
        "        super(CNN, self).__init__()\n",
        "\n",
        "        self.add(\n",
        "            layers.Conv2D(filters=32, kernel_size=(3, 3), activation='relu', input_shape=input_shape)\n",
        "        )\n",
        "        self.add(\n",
        "            layers.Conv2D(filters=64, kernel_size=(3, 3), activation='relu')\n",
        "        )\n",
        "        self.add(\n",
        "            layers.MaxPooling2D(pool_size=(2, 2))\n",
        "        )\n",
        "        self.add(\n",
        "            layers.Dropout(0.25)\n",
        "        )\n",
        "        self.add(\n",
        "            layers.Flatten()\n",
        "        )\n",
        "        self.add(\n",
        "            layers.Dense(128, activation='relu')\n",
        "        )\n",
        "        self.add(\n",
        "            layers.Dropout(0.5)\n",
        "        )\n",
        "        self.add(\n",
        "            layers.Dense(num_classes, activation='softmax')\n",
        "        )\n",
        "\n",
        "        self.compile(\n",
        "            optimizer='rmsprop',\n",
        "            loss=losses.categorical_crossentropy,\n",
        "            metrics=['acc']\n",
        "        )"
      ],
      "execution_count": 3,
      "outputs": []
    },
    {
      "cell_type": "code",
      "metadata": {
        "pycharm": {
          "name": "#%%\n"
        },
        "id": "LtZpfBxsBkmU"
      },
      "source": [
        "import keras\n",
        "from keras import datasets\n",
        "from keras.utils import np_utils"
      ],
      "execution_count": 4,
      "outputs": []
    },
    {
      "cell_type": "code",
      "metadata": {
        "pycharm": {
          "name": "#%%\n"
        },
        "id": "BXB4RqeyBkmU"
      },
      "source": [
        "class Data:\n",
        "    def __init__(self):\n",
        "        (X_train, y_train), (X_test, y_test) = datasets.mnist.load_data()\n",
        "\n",
        "        Y_train = np_utils.to_categorical(y_train)\n",
        "        Y_test  = np_utils.to_categorical(y_test)\n",
        "\n",
        "        img_rows, img_cols = X_train.shape[1:]\n",
        "\n",
        "        if keras.backend.image_data_format() == 'channels_first':\n",
        "            X_train = X_train.reshape(-1, 1, img_rows, img_cols)\n",
        "            X_test = X_test.reshape(-1, 1, img_rows, img_cols)\n",
        "\n",
        "            input_shape = (1, img_rows, img_cols)\n",
        "        else:\n",
        "            X_train = X_train.reshape(-1, img_rows, img_cols, 1)\n",
        "            X_test = X_test.reshape(-1, img_rows, img_cols, 1)\n",
        "\n",
        "            input_shape = (img_rows, img_cols, 1)\n",
        "\n",
        "        X_train = X_train.astype('float32')\n",
        "        X_test = X_test.astype('float32')\n",
        "\n",
        "        X_train /= 255.0\n",
        "        X_test /= 255.0\n",
        "\n",
        "        self.input_shape = input_shape\n",
        "        self.num_classes = 10\n",
        "        self.x_train, self.y_train = X_train, Y_train\n",
        "        self.x_test, self.y_test = X_test, Y_test"
      ],
      "execution_count": 5,
      "outputs": []
    },
    {
      "cell_type": "code",
      "metadata": {
        "pycharm": {
          "name": "#%%\n"
        },
        "id": "rlJupJ6PBkmU"
      },
      "source": [
        "import matplotlib.pyplot as plt"
      ],
      "execution_count": 6,
      "outputs": []
    },
    {
      "cell_type": "code",
      "metadata": {
        "pycharm": {
          "name": "#%%\n"
        },
        "id": "KlfGBmjLBkmU"
      },
      "source": [
        "def plot_loss(history):\n",
        "    plt.plot(history.history['loss'])\n",
        "    plt.plot(history.history['val_loss'])\n",
        "    plt.title('Model Loss')\n",
        "    plt.ylabel('Loss')\n",
        "    plt.xlabel('Epoch')\n",
        "    plt.legend(['Train, Test'], loc=0)"
      ],
      "execution_count": 7,
      "outputs": []
    },
    {
      "cell_type": "code",
      "metadata": {
        "pycharm": {
          "name": "#%%\n"
        },
        "id": "P5VCxU_eBkmU"
      },
      "source": [
        "\n",
        "def plot_acc(history):\n",
        "    plt.plot(history.history['acc'])\n",
        "    plt.plot(history.history['val_acc'])\n",
        "    plt.title('Model Accuracy')\n",
        "    plt.ylabel('Accuracy')\n",
        "    plt.xlabel('Epoch')\n",
        "    plt.legend(['Train, Test'], loc=0)"
      ],
      "execution_count": 8,
      "outputs": []
    },
    {
      "cell_type": "code",
      "metadata": {
        "pycharm": {
          "name": "#%%\n"
        },
        "id": "Hj9xDrKVBkmU"
      },
      "source": [
        "def main():\n",
        "    data = Data()\n",
        "    model = CNN(data.input_shape, data.num_classes)\n",
        "    history = model.fit(data.x_train, data.y_train, epochs=10, batch_size=128, validation_split=0.2)\n",
        "\n",
        "    score = model.evaluate(data.x_test, data.y_test)\n",
        "    print(f'Test Loss: {score[0]:.2f}\\nTest Accuracy: {score[1]:.2f}')\n",
        "\n",
        "    plot_loss(history)\n",
        "    plt.show()\n",
        "\n",
        "    plot_acc(history)\n",
        "    plt.show()"
      ],
      "execution_count": 9,
      "outputs": []
    },
    {
      "cell_type": "code",
      "metadata": {
        "pycharm": {
          "name": "#%%\n"
        },
        "id": "cVC7F2eSBkmU",
        "outputId": "ab26da89-1e29-4bae-96ac-4ae915f3372f",
        "colab": {
          "base_uri": "https://localhost:8080/",
          "height": 998
        }
      },
      "source": [
        "main()"
      ],
      "execution_count": 10,
      "outputs": [
        {
          "output_type": "stream",
          "text": [
            "Downloading data from https://storage.googleapis.com/tensorflow/tf-keras-datasets/mnist.npz\n",
            "11493376/11490434 [==============================] - 0s 0us/step\n",
            "Epoch 1/10\n",
            "375/375 [==============================] - 3s 7ms/step - loss: 0.2524 - acc: 0.9228 - val_loss: 0.0659 - val_acc: 0.9808\n",
            "Epoch 2/10\n",
            "375/375 [==============================] - 2s 7ms/step - loss: 0.0862 - acc: 0.9741 - val_loss: 0.0492 - val_acc: 0.9852\n",
            "Epoch 3/10\n",
            "375/375 [==============================] - 2s 7ms/step - loss: 0.0672 - acc: 0.9802 - val_loss: 0.0429 - val_acc: 0.9872\n",
            "Epoch 4/10\n",
            "375/375 [==============================] - 2s 7ms/step - loss: 0.0552 - acc: 0.9838 - val_loss: 0.0548 - val_acc: 0.9838\n",
            "Epoch 5/10\n",
            "375/375 [==============================] - 2s 7ms/step - loss: 0.0507 - acc: 0.9848 - val_loss: 0.0413 - val_acc: 0.9883\n",
            "Epoch 6/10\n",
            "375/375 [==============================] - 2s 6ms/step - loss: 0.0450 - acc: 0.9873 - val_loss: 0.0413 - val_acc: 0.9880\n",
            "Epoch 7/10\n",
            "375/375 [==============================] - 2s 7ms/step - loss: 0.0416 - acc: 0.9876 - val_loss: 0.0427 - val_acc: 0.9889\n",
            "Epoch 8/10\n",
            "375/375 [==============================] - 2s 6ms/step - loss: 0.0396 - acc: 0.9882 - val_loss: 0.0410 - val_acc: 0.9893\n",
            "Epoch 9/10\n",
            "375/375 [==============================] - 2s 7ms/step - loss: 0.0370 - acc: 0.9899 - val_loss: 0.0377 - val_acc: 0.9901\n",
            "Epoch 10/10\n",
            "375/375 [==============================] - 2s 7ms/step - loss: 0.0368 - acc: 0.9892 - val_loss: 0.0364 - val_acc: 0.9890\n",
            "313/313 [==============================] - 1s 3ms/step - loss: 0.0307 - acc: 0.9902\n",
            "Test Loss: 0.03\n",
            "Test Accuracy: 0.99\n"
          ],
          "name": "stdout"
        },
        {
          "output_type": "display_data",
          "data": {
            "image/png": "[encoded data removed]",
            "text/plain": [
              "<Figure size 432x288 with 1 Axes>"
            ]
          },
          "metadata": {
            "tags": [],
            "needs_background": "light"
          }
        },
        {
          "output_type": "display_data",
          "data": {
            "image/png": "[encoded data removed]",
            "text/plain": [
              "<Figure size 432x288 with 1 Axes>"
            ]
          },
          "metadata": {
            "tags": [],
            "needs_background": "light"
          }
        }
      ]
    }
  ]
}